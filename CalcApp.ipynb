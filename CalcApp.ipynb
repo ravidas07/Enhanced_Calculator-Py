{
 "cells": [
  {
   "cell_type": "markdown",
   "id": "9e9cecfd-2b03-474b-8e51-b2c55835b230",
   "metadata": {},
   "source": [
    "# Calculator Application"
   ]
  },
  {
   "cell_type": "markdown",
   "id": "541f336f-1fa3-46c9-8854-36e00d650e72",
   "metadata": {},
   "source": [
    "### Using Tkinter"
   ]
  },
  {
   "cell_type": "code",
   "execution_count": 1,
   "id": "a8e1687f-afc9-4c3f-aa6c-29a0788b28e7",
   "metadata": {},
   "outputs": [],
   "source": [
    "from tkinter import Tk, Entry, Button, StringVar"
   ]
  },
  {
   "cell_type": "code",
   "execution_count": 224,
   "id": "5ad3f2f8-8c0d-492c-b607-5c02ce3fc2bc",
   "metadata": {},
   "outputs": [],
   "source": [
    "class Calculator:\n",
    "    def __init__(self, master):\n",
    "        master.title(\"Calculator\")\n",
    "        master.geometry('405x420+0+0')\n",
    "        master.config(bg='gray')\n",
    "        master.resizable(False, False)\n",
    "\n",
    "        self.equation = StringVar()\n",
    "        self.entry_value = ''\n",
    "        \n",
    "        # Entry widget\n",
    "        Entry(master, width=17, bg='#ccd', font=('Arial Bold', 32), textvariable=self.equation).grid(row=0, column=0, columnspan=5, pady=0)\n",
    "\n",
    "        # Button definitions\n",
    "        buttons = [\n",
    "            '(', ')', '%', '/',\n",
    "            '7', '8', '9', '*',\n",
    "            '4', '5', '6', '-',\n",
    "            '1', '2', '3', '+',\n",
    "            'C', '0', '.', '='\n",
    "        ]\n",
    "        \n",
    "        # Adding buttons to the grid\n",
    "        row = 1\n",
    "        col = 0\n",
    "        for button in buttons:\n",
    "            if button == '=':\n",
    "                Button(master, width=13, height=4, text=button, relief='flat', bg='lightblue', command=self.solve).grid(row=row, column=col, padx=1, pady=1)\n",
    "            elif button == 'C':\n",
    "                Button(master, width=13, height=4, text=button, relief='flat', bg='orange', command=self.clear).grid(row=row, column=col, padx=1, pady=1)\n",
    "            else:\n",
    "                Button(master, width=13, height=4, text=button, relief='flat', bg='white', command=lambda val=button: self.show(val)).grid(row=row, column=col, padx=1, pady=1)\n",
    "            col += 1\n",
    "            if col > 3:  # Move to the next row after 4 buttons\n",
    "                col = 0\n",
    "                row += 1\n",
    "\n",
    "    def show(self, value):\n",
    "        self.entry_value += str(value)\n",
    "        self.equation.set(self.entry_value)\n",
    "\n",
    "    def clear(self):\n",
    "        self.entry_value = ''\n",
    "        self.equation.set(self.entry_value)\n",
    "\n",
    "    def solve(self):\n",
    "        try:\n",
    "            result = eval(self.entry_value)\n",
    "            self.equation.set(result)\n",
    "            self.entry_value = str(result)  # Update entry_value to the result for further calculations\n",
    "        except Exception as e:\n",
    "            self.equation.set(\"Error\")\n",
    "            self.entry_value = ''  # Clear entry_value on error\n",
    "\n",
    "root = Tk()\n",
    "Calculator(root)\n",
    "root.mainloop()"
   ]
  },
  {
   "cell_type": "code",
   "execution_count": null,
   "id": "c9879daf-f9ac-4a73-9d0a-ab11060c3cfd",
   "metadata": {},
   "outputs": [],
   "source": []
  },
  {
   "cell_type": "markdown",
   "id": "0a7b07e6-3c7b-4513-a8a0-21dac466f5bb",
   "metadata": {},
   "source": [
    "### Using Postion args to place buttons"
   ]
  },
  {
   "cell_type": "code",
   "execution_count": 226,
   "id": "59e4c627-73f9-4c33-99e5-d98bc85168f5",
   "metadata": {},
   "outputs": [],
   "source": [
    "class Calculator:\n",
    "    def __init__(self, master):\n",
    "        master.title(\"Calculator\")\n",
    "        master.geometry('357x420+0+0')\n",
    "        master.config(bg='gray')\n",
    "        master.resizable(False, False)\n",
    "        \n",
    "        self.equation = StringVar()\n",
    "        self.entry_value = ''\n",
    "        Entry(master, width=17, bg='#ccd', font=('Arial Bold', 28), textvariable=self.equation).place(x=0, y=0)\n",
    "\n",
    "        buttons = [\n",
    "            '(', ')', '%', '1', '2', '3', '4', '5', '6', '7', '8', '9', '0', '.', '+', '-', '/', '*', '=', 'C'\n",
    "        ]\n",
    "        \n",
    "        positions = [\n",
    "            (0, 50), (90, 50), (180, 50),\n",
    "            (0, 125), (90, 125), (180, 125),\n",
    "            (0, 200), (90, 200), (180, 200),\n",
    "            (0, 275), (90, 275), (180, 275),\n",
    "            (90, 350), (180, 350), (270, 275),\n",
    "            (270, 200), (270, 50), (270, 125),\n",
    "            (270, 350), (0, 350)\n",
    "        ]\n",
    "\n",
    "        for button, (x, y) in zip(buttons, positions):\n",
    "            if button == '=':\n",
    "                Button(width=11, height=4, text=button, relief='flat', bg='orange', command=self.solve).place(x=x, y=y)\n",
    "            elif button == 'C':\n",
    "                Button(width=11, height=4, text=button, relief='flat', bg='lightgreen', command=self.clear).place(x=x, y=y)\n",
    "            else:\n",
    "                Button(width=11, height=4, text=button, relief='flat', bg='white', command=lambda val=button: self.show(val)).place(x=x, y=y)\n",
    "\n",
    "    def show(self, value):\n",
    "        self.entry_value += str(value)\n",
    "        self.equation.set(self.entry_value)\n",
    "\n",
    "    def clear(self):\n",
    "        self.entry_value = ''\n",
    "        self.equation.set(self.entry_value)\n",
    "\n",
    "    def solve(self):\n",
    "        try:\n",
    "            result = eval(self.entry_value)\n",
    "            self.equation.set(result)\n",
    "            self.entry_value = str(result)  # Update entry_value to the result for further calculations\n",
    "        except Exception as e:\n",
    "            self.equation.set(\"Error\")\n",
    "            self.entry_value = ''  # Clear the entry_value on error\n",
    "\n",
    "root = Tk()\n",
    "Calculator(root)\n",
    "root.mainloop()"
   ]
  }
 ],
 "metadata": {
  "kernelspec": {
   "display_name": "Python 3 (ipykernel)",
   "language": "python",
   "name": "python3"
  },
  "language_info": {
   "codemirror_mode": {
    "name": "ipython",
    "version": 3
   },
   "file_extension": ".py",
   "mimetype": "text/x-python",
   "name": "python",
   "nbconvert_exporter": "python",
   "pygments_lexer": "ipython3",
   "version": "3.12.4"
  }
 },
 "nbformat": 4,
 "nbformat_minor": 5
}
